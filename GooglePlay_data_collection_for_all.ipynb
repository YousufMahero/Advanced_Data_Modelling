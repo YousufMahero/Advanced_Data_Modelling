{
 "cells": [
  {
   "cell_type": "markdown",
   "metadata": {
    "colab_type": "text",
    "id": "To_vEWFURtMX"
   },
   "source": [
    "# Collecting data from GooglePlay\n",
    "\n",
    "This notebook is used to collect the dataset 'reviews.csv'. You are free to modify this code and customise the dataset according to your goals.\n",
    "\n",
    "**Note:**\n",
    "\n",
    "This code is designed to collect almost similar number of positive and negative reviews. However, it aims to show a way of data collection, may not be case of your analysis.\n",
    "\n",
    "The function used for scraping app info and reviews is [google-play-scraper](https://github.com/JoMingyu/google-play-scraper)."
   ]
  },
  {
   "cell_type": "markdown",
   "metadata": {
    "colab_type": "text",
    "id": "VI1Dobd2a3ZS"
   },
   "source": [
    "## Setup\n",
    "\n",
    "Let's install the required packages and setup the imports:"
   ]
  },
  {
   "cell_type": "code",
   "execution_count": 1,
   "metadata": {},
   "outputs": [
    {
     "name": "stdout",
     "output_type": "stream",
     "text": [
      "Collecting google_play_scraper\n",
      "  Downloading google-play-scraper-0.1.2.tar.gz (49 kB)\n",
      "Building wheels for collected packages: google-play-scraper\n",
      "  Building wheel for google-play-scraper (setup.py): started\n",
      "  Building wheel for google-play-scraper (setup.py): finished with status 'done'\n",
      "  Created wheel for google-play-scraper: filename=google_play_scraper-0.1.2-py3-none-any.whl size=22283 sha256=6ea140fe26ab917921137b41f7356cbd4700cc0f60cecf79c0fbb9a731723508\n",
      "  Stored in directory: c:\\users\\yusuf\\appdata\\local\\pip\\cache\\wheels\\7c\\31\\92\\eae6c18272cbadda3f3b29efc9dbb1ba7d96cb92397543c3c5\n",
      "Successfully built google-play-scraper\n",
      "Installing collected packages: google-play-scraper\n",
      "Successfully installed google-play-scraper-0.1.2\n"
     ]
    }
   ],
   "source": [
    "# First time running this code, you need to install package 'google_play_scraper' \n",
    "#!pip install --upgrade google_play_scraper"
   ]
  },
  {
   "cell_type": "code",
   "execution_count": 25,
   "metadata": {
    "colab": {},
    "colab_type": "code",
    "id": "KO_DkQb1AeSY"
   },
   "outputs": [],
   "source": [
    "import json\n",
    "import pandas as pd\n",
    "from tqdm import tqdm\n",
    "\n",
    "import seaborn as sns\n",
    "import matplotlib.pyplot as plt\n",
    "\n",
    "from pygments import highlight\n",
    "from pygments.lexers import JsonLexer\n",
    "from pygments.formatters import TerminalFormatter\n",
    "\n",
    "from google_play_scraper import Sort, reviews, app\n"
   ]
  },
  {
   "cell_type": "markdown",
   "metadata": {
    "colab_type": "text",
    "id": "ILxYFPjkSILt"
   },
   "source": [
    "Now let's create a list of Apps we want to collect.\n",
    "\n",
    "We will need 'the Google Play ID', which is the unique identifier of an Android application. \n",
    "It can be found by searching for the app and finding the Play store web page for the app.\n",
    "\n",
    "In the example below, the Google Play ID is ``com.amazon.mShop.android.shopping``, which you can find directly from its url address:\n",
    "\n",
    "https://play.google.com/store/apps/details?id=com.amazon.mShop.android.shopping\n",
    "\n",
    "You are free to define your own list of Apps."
   ]
  },
  {
   "cell_type": "code",
   "execution_count": 26,
   "metadata": {
    "colab": {},
    "colab_type": "code",
    "id": "AyooW6bBAIl6"
   },
   "outputs": [],
   "source": [
    "# List of Apps and their packages to be collected. Here I choose some Apps under the category 'productivity'\n",
    "app_packages = ['com.ebay.mobile' ,'com.amazon.mShop.android.shopping' , 'com.homeretailgroup.argos.android']"
   ]
  },
  {
   "cell_type": "markdown",
   "metadata": {
    "colab_type": "text",
    "id": "EAxBAfyiZ-QC"
   },
   "source": [
    "## Scraping App Information\n",
    "\n",
    "Let's scrape the info for each app:"
   ]
  },
  {
   "cell_type": "code",
   "execution_count": 27,
   "metadata": {
    "colab": {
     "base_uri": "https://localhost:8080/",
     "height": 34
    },
    "colab_type": "code",
    "id": "zusDZbd4AoOG",
    "outputId": "89ce629d-1f4b-40b2-d0a5-c3e5378e3034"
   },
   "outputs": [
    {
     "name": "stderr",
     "output_type": "stream",
     "text": [
      "100%|██████████| 3/3 [00:01<00:00,  1.91it/s]\n"
     ]
    }
   ],
   "source": [
    "app_infos = []\n",
    "\n",
    "for ap in tqdm(app_packages):\n",
    "    info = app(ap, lang='en', country='uk') # from the UK markert\n",
    "    del info['comments']\n",
    "    app_infos.append(info)"
   ]
  },
  {
   "cell_type": "markdown",
   "metadata": {
    "colab_type": "text",
    "id": "HcqDfOxyNWrA"
   },
   "source": [
    "Let's look at the corresponding JSON objects:"
   ]
  },
  {
   "cell_type": "code",
   "execution_count": 28,
   "metadata": {
    "colab": {},
    "colab_type": "code",
    "id": "4n-vkhrZJPp_"
   },
   "outputs": [],
   "source": [
    "def print_json(json_object):\n",
    "    json_str = json.dumps(\n",
    "        json_object, \n",
    "        indent=2, \n",
    "        sort_keys=True, \n",
    "        default=str\n",
    "    )\n",
    "    print(highlight(json_str, JsonLexer(), TerminalFormatter()))"
   ]
  },
  {
   "cell_type": "markdown",
   "metadata": {
    "colab_type": "text",
    "id": "385fEVLONdac"
   },
   "source": [
    "Here is a sample app information from the list:"
   ]
  },
  {
   "cell_type": "code",
   "execution_count": 13,
   "metadata": {
    "colab": {
     "base_uri": "https://localhost:8080/",
     "height": 1000
    },
    "colab_type": "code",
    "id": "TI1s5NBAEl-X",
    "outputId": "078df2bb-d743-415c-b666-fe3e0bbbdd76"
   },
   "outputs": [
    {
     "name": "stdout",
     "output_type": "stream",
     "text": [
      "{\n",
      "  \u001b[94m\"adSupported\"\u001b[39;49;00m: \u001b[34mtrue\u001b[39;49;00m,\n",
      "  \u001b[94m\"androidVersion\"\u001b[39;49;00m: \u001b[33m\"Varies\"\u001b[39;49;00m,\n",
      "  \u001b[94m\"androidVersionText\"\u001b[39;49;00m: \u001b[33m\"Varies with device\"\u001b[39;49;00m,\n",
      "  \u001b[94m\"appId\"\u001b[39;49;00m: \u001b[33m\"com.ebay.mobile\"\u001b[39;49;00m,\n",
      "  \u001b[94m\"containsAds\"\u001b[39;49;00m: \u001b[34mtrue\u001b[39;49;00m,\n",
      "  \u001b[94m\"contentRating\"\u001b[39;49;00m: \u001b[33m\"Parental guidance\"\u001b[39;49;00m,\n",
      "  \u001b[94m\"contentRatingDescription\"\u001b[39;49;00m: \u001b[33m\"Parental Guidance Recommended\"\u001b[39;49;00m,\n",
      "  \u001b[94m\"currency\"\u001b[39;49;00m: \u001b[33m\"USD\"\u001b[39;49;00m,\n",
      "  \u001b[94m\"description\"\u001b[39;49;00m: \u001b[33m\"Buy, sell and discover amazing deals now on the brands you love wherever you are. Simply download the eBay app and sign in to get started. \\r\\n\\r\\nNew to eBay? Register now and discover the joys of buying and selling on the eBay marketplace.\\r\\n\\r\\n<b> Buying and selling - make the eBay Shopping App work for you:</b>\\r\\n\\u2022 List items you want to sell in just a few minutes.\\r\\n\\u2022 Easily message buyers.\\r\\n\\u2022 Get app-exclusive offers and discover online shopping deals.\\r\\n\\u2022 Quickly and safely speed through checkout.\\r\\n\\u2022 Track your online shopping orders in real-time.\\r\\n\\u2022 Your eBay, your way: personalize your settings with features like Dark Mode, custom notifications, and much more.\\r\\n\\r\\n<b>Make $$$ fast by selling on the eBay app</b>\\r\\nList items quickly with handy sellers features to help you make money on the eBay marketplace.  \\r\\n\\r\\n<b>Barcode Scanner:</b> Simply scan the barcode of the item you want to sell, and instantly get the details for your listing.\\r\\n\\r\\n<b>Image Clean-up:</b> Snap a picture (or use one you already have) and use the background-remover to make your listing stand out.\\r\\n\\r\\n<b>Up and Running:</b> eBay proudly supports small businesses - join a community of sellers and access powerful selling tools and insights.\\r\\n\\r\\n<b>Sell sneakers $100 and up:</b> Pay no selling fees on eligible sneakers when the starting price of the item is $100 or more, not including shipping, handling, taxes, or fees.\\r\\n\\r\\n<b>Your eBay. Your way.</b>\\r\\nDiscover a range of useful app features on eBay's vibrant marketplace where you can find exactly what you want, at a price you'll love. \\r\\n\\r\\nDark Mode: Enhance your online shopping experience with our award-winning Dark Mode feature. Simply tap on the Menu icon > Settings > Theme > Dark Mode to turn on or off.\\r\\n\\r\\nSeamless payments: Buy with Google Pay, Paypal, credit card and debit card for a quick and easy checkout.\\r\\n\\r\\nBarcode Scanner: Scan items to instantly find what you're looking for.\\r\\n\\r\\nImage search: Snap a photo with your phone or upload an image - we'll find it for you!\\r\\n\\r\\nGreat Price Badge: we'll help you know a great deal if you see one. Just keep an eye out for our Great Price Badge.\\r\\n\\r\\nBuy Again or Buy Similar: our Buy Again feature makes repurchasing an item from the same seller. No longer available? We'll help you find similar items.\\r\\n\\r\\nWatch items: Not quite ready to buy? Add items to your watchlist and stay up to date on price changes or low stock.\\r\\n\\r\\nSave your favorite sellers: like a store or seller? Save them so you can see what they're selling in your feed. \\r\\n\\r\\nMake an offer: you can negotiate your way to a great deal by making an offer. It's super easy in the app!\\r\\n\\r\\nMake a bid: Make an auction-style bid, or select automatic bidding. We'll take care of the rest.\\r\\n\\r\\nContact sellers: Want to know a little more about an item? Tap Contact seller on the item page.\\r\\n\\r\\n\\r\\n<b>Buy new & second hand items from the brands you love</b>\\r\\n\\u2022 Sneakers - discover authentic models from Jordan, Yeezy and Nike.\\r\\n\\u2022 Watches - browse designs from Omega and Breitling.\\r\\n\\u2022 Tech - find tech deals for computers, smartwatches, game consoles, TVs and more.\\r\\n\\r\\n<b>Shop Certified Refurbished</b>\\r\\n\\u2022 Shop smart and get amazing deals on premium brands backed with a two-year warranty on certified refurb products.\\r\\n\\u2022 Browse laptops, headphones, kitchen appliances and more - plus we offer a money-back guarantee.\\r\\n\\r\\n<b>eBay Money Back Guarantee</b>\\r\\nGet the item you ordered or your money back \\u2014 it's that simple. Our eBay Money-Back Guarantee applies to virtually everything on our site, and there's no extra fee for coverage. \\r\\n\\r\\n<b>Authenticity Guarantee</b>\\r\\nOur independent Authentication gives you peace of mind from start to finish. From watches to sneakers, you can safely buy or sell with our Authenticity Guarantee - at no cost to you.\\r\\n\\r\\n\\r\\n<b>Keep in touch</b>\\r\\nYour feedback & suggestions are really important to us. Get in touch on Twitter @askebay or https://www.ebay.com/android\"\u001b[39;49;00m,\n",
      "  \u001b[94m\"descriptionHTML\"\u001b[39;49;00m: \u001b[33m\"Buy, sell and discover amazing deals now on the brands you love wherever you are. Simply download the eBay app and sign in to get started. <br><br>New to eBay? Register now and discover the joys of buying and selling on the eBay marketplace.<br><br><b> Buying and selling - make the eBay Shopping App work for you:</b><br>\\u2022 List items you want to sell in just a few minutes.<br>\\u2022 Easily message buyers.<br>\\u2022 Get app-exclusive offers and discover online shopping deals.<br>\\u2022 Quickly and safely speed through checkout.<br>\\u2022 Track your online shopping orders in real-time.<br>\\u2022 Your eBay, your way: personalize your settings with features like Dark Mode, custom notifications, and much more.<br><br><b>Make $$$ fast by selling on the eBay app</b><br>List items quickly with handy sellers features to help you make money on the eBay marketplace.  <br><br><b>Barcode Scanner:</b> Simply scan the barcode of the item you want to sell, and instantly get the details for your listing.<br><br><b>Image Clean-up:</b> Snap a picture (or use one you already have) and use the background-remover to make your listing stand out.<br><br><b>Up and Running:</b> eBay proudly supports small businesses - join a community of sellers and access powerful selling tools and insights.<br><br><b>Sell sneakers $100 and up:</b> Pay no selling fees on eligible sneakers when the starting price of the item is $100 or more, not including shipping, handling, taxes, or fees.<br><br><b>Your eBay. Your way.</b><br>Discover a range of useful app features on eBay&#39;s vibrant marketplace where you can find exactly what you want, at a price you&#39;ll love. <br><br>Dark Mode: Enhance your online shopping experience with our award-winning Dark Mode feature. Simply tap on the Menu icon &gt; Settings &gt; Theme &gt; Dark Mode to turn on or off.<br><br>Seamless payments: Buy with Google Pay, Paypal, credit card and debit card for a quick and easy checkout.<br><br>Barcode Scanner: Scan items to instantly find what you&#39;re looking for.<br><br>Image search: Snap a photo with your phone or upload an image - we&#39;ll find it for you!<br><br>Great Price Badge: we&#39;ll help you know a great deal if you see one. Just keep an eye out for our Great Price Badge.<br><br>Buy Again or Buy Similar: our Buy Again feature makes repurchasing an item from the same seller. No longer available? We&#39;ll help you find similar items.<br><br>Watch items: Not quite ready to buy? Add items to your watchlist and stay up to date on price changes or low stock.<br><br>Save your favorite sellers: like a store or seller? Save them so you can see what they&#39;re selling in your feed. <br><br>Make an offer: you can negotiate your way to a great deal by making an offer. It&#39;s super easy in the app!<br><br>Make a bid: Make an auction-style bid, or select automatic bidding. We&#39;ll take care of the rest.<br><br>Contact sellers: Want to know a little more about an item? Tap Contact seller on the item page.<br><br><br><b>Buy new &amp; second hand items from the brands you love</b><br>\\u2022 Sneakers - discover authentic models from Jordan, Yeezy and Nike.<br>\\u2022 Watches - browse designs from Omega and Breitling.<br>\\u2022 Tech - find tech deals for computers, smartwatches, game consoles, TVs and more.<br><br><b>Shop Certified Refurbished</b><br>\\u2022 Shop smart and get amazing deals on premium brands backed with a two-year warranty on certified refurb products.<br>\\u2022 Browse laptops, headphones, kitchen appliances and more - plus we offer a money-back guarantee.<br><br><b>eBay Money Back Guarantee</b><br>Get the item you ordered or your money back \\u2014 it&#39;s that simple. Our eBay Money-Back Guarantee applies to virtually everything on our site, and there&#39;s no extra fee for coverage. <br><br><b>Authenticity Guarantee</b><br>Our independent Authentication gives you peace of mind from start to finish. From watches to sneakers, you can safely buy or sell with our Authenticity Guarantee - at no cost to you.<br><br><br><b>Keep in touch</b><br>Your feedback &amp; suggestions are really important to us. Get in touch on Twitter @askebay or https://www.ebay.com/android\"\u001b[39;49;00m,\n",
      "  \u001b[94m\"developer\"\u001b[39;49;00m: \u001b[33m\"eBay Mobile\"\u001b[39;49;00m,\n",
      "  \u001b[94m\"developerAddress\"\u001b[39;49;00m: \u001b[34mnull\u001b[39;49;00m,\n",
      "  \u001b[94m\"developerEmail\"\u001b[39;49;00m: \u001b[33m\"androidhelp@ebay.com\"\u001b[39;49;00m,\n",
      "  \u001b[94m\"developerId\"\u001b[39;49;00m: \u001b[33m\"6005619443614255030\"\u001b[39;49;00m,\n",
      "  \u001b[94m\"developerInternalID\"\u001b[39;49;00m: \u001b[33m\"6005619443614255030\"\u001b[39;49;00m,\n",
      "  \u001b[94m\"developerWebsite\"\u001b[39;49;00m: \u001b[33m\"http://www.ebay.com\"\u001b[39;49;00m,\n",
      "  \u001b[94m\"editorsChoice\"\u001b[39;49;00m: \u001b[34mtrue\u001b[39;49;00m,\n",
      "  \u001b[94m\"free\"\u001b[39;49;00m: \u001b[34mtrue\u001b[39;49;00m,\n",
      "  \u001b[94m\"genre\"\u001b[39;49;00m: \u001b[33m\"Shopping\"\u001b[39;49;00m,\n",
      "  \u001b[94m\"genreId\"\u001b[39;49;00m: \u001b[33m\"SHOPPING\"\u001b[39;49;00m,\n",
      "  \u001b[94m\"headerImage\"\u001b[39;49;00m: \u001b[33m\"https://play-lh.googleusercontent.com/Y9kT39B-zgDG8UobFpvsAXEWH6wAJno0mrzx7uuz2ciQk7XJcCXZBvYa7-PcS8erDq8\"\u001b[39;49;00m,\n",
      "  \u001b[94m\"histogram\"\u001b[39;49;00m: [\n",
      "    \u001b[34m126121\u001b[39;49;00m,\n",
      "    \u001b[34m33087\u001b[39;49;00m,\n",
      "    \u001b[34m86074\u001b[39;49;00m,\n",
      "    \u001b[34m465895\u001b[39;49;00m,\n",
      "    \u001b[34m3036992\u001b[39;49;00m\n",
      "  ],\n",
      "  \u001b[94m\"icon\"\u001b[39;49;00m: \u001b[33m\"https://play-lh.googleusercontent.com/31-mJUIynIfQBizOn-w1yWLKHBxVeRKA3gz348_E3K-TnuEaqCjn_-Fr9j0yQ6i0y5E\"\u001b[39;49;00m,\n",
      "  \u001b[94m\"inAppProductPrice\"\u001b[39;49;00m: \u001b[34mnull\u001b[39;49;00m,\n",
      "  \u001b[94m\"installs\"\u001b[39;49;00m: \u001b[33m\"100,000,000+\"\u001b[39;49;00m,\n",
      "  \u001b[94m\"minInstalls\"\u001b[39;49;00m: \u001b[34m100000000\u001b[39;49;00m,\n",
      "  \u001b[94m\"offersIAP\"\u001b[39;49;00m: \u001b[34mfalse\u001b[39;49;00m,\n",
      "  \u001b[94m\"originalPrice\"\u001b[39;49;00m: \u001b[34mnull\u001b[39;49;00m,\n",
      "  \u001b[94m\"price\"\u001b[39;49;00m: \u001b[34m0\u001b[39;49;00m,\n",
      "  \u001b[94m\"privacyPolicy\"\u001b[39;49;00m: \u001b[33m\"http://ebay.to/1ur6UQ4\"\u001b[39;49;00m,\n",
      "  \u001b[94m\"ratings\"\u001b[39;49;00m: \u001b[34m3748169\u001b[39;49;00m,\n",
      "  \u001b[94m\"recentChanges\"\u001b[39;49;00m: \u001b[33m\"Check out the new notifications diagnostic tool which can help you troubleshoot and customise your notifications. Simply launch the eBay app, go to Settings > Notifications > Diagnose notification > Begin Test. We\\u2019ve improved features & fixed a few bugs including \\r\\n\\u2022\\tImproved watchlist sorting\\r\\n\\u2022\\tFixed bug which could cause selling shipping options to not show \\r\\n\\u2022\\tFixed bug which could cause drafts to be missing when selling\\r\\n\\u2022\\tFixed bug that could cause the app to quit when accessing selling \"\u001b[39;49;00m,\n",
      "  \u001b[94m\"recentChangesHTML\"\u001b[39;49;00m: \u001b[33m\"Check out the new notifications diagnostic tool which can help you troubleshoot and customise your notifications. Simply launch the eBay app, go to Settings &gt; Notifications &gt; Diagnose notification &gt; Begin Test. We\\u2019ve improved features &amp; fixed a few bugs including <br>\\u2022\\tImproved watchlist sorting<br>\\u2022\\tFixed bug which could cause selling shipping options to not show <br>\\u2022\\tFixed bug which could cause drafts to be missing when selling<br>\\u2022\\tFixed bug that could cause the app to quit when accessing selling \"\u001b[39;49;00m,\n",
      "  \u001b[94m\"released\"\u001b[39;49;00m: \u001b[33m\"Feb 17, 2010\"\u001b[39;49;00m,\n",
      "  \u001b[94m\"reviews\"\u001b[39;49;00m: \u001b[34m1387977\u001b[39;49;00m,\n",
      "  \u001b[94m\"sale\"\u001b[39;49;00m: \u001b[34mfalse\u001b[39;49;00m,\n",
      "  \u001b[94m\"saleText\"\u001b[39;49;00m: \u001b[34mnull\u001b[39;49;00m,\n",
      "  \u001b[94m\"saleTime\"\u001b[39;49;00m: \u001b[34mnull\u001b[39;49;00m,\n",
      "  \u001b[94m\"score\"\u001b[39;49;00m: \u001b[34m4.668694\u001b[39;49;00m,\n",
      "  \u001b[94m\"screenshots\"\u001b[39;49;00m: [\n",
      "    \u001b[33m\"https://play-lh.googleusercontent.com/o11THeilOQfJKs_Uin23Q7qniyIL06j0Vk8jjHRgh0P3vy6-qXrePKZZnGSXc_PjCw\"\u001b[39;49;00m,\n",
      "    \u001b[33m\"https://play-lh.googleusercontent.com/N8wzhU4dFeX5p2MT81v6Er55KhIb8zfW0FYUqJgimLApXSEGg06-2Lu4yRhUR0MK9KB1\"\u001b[39;49;00m,\n",
      "    \u001b[33m\"https://play-lh.googleusercontent.com/uVCMFI5_hNuLPbXtY1AyNWC3MpXAtyPBTfteWHuzyCHd_Nb615Z-KKJbvsAzRNlm84Y\"\u001b[39;49;00m,\n",
      "    \u001b[33m\"https://play-lh.googleusercontent.com/6DjItaJ3PUNIkYR1Vb5_XrT_Zzpx983tC3a7qqIjANBwC00L3Aj6ANOIe5Z-8j_ZtFxI\"\u001b[39;49;00m,\n",
      "    \u001b[33m\"https://play-lh.googleusercontent.com/AFE9hcT7DQvaJj-YjWtaOjHCoDr3TqsrdJGwSRWIfoE8n0lZKIY8GYLR00xx3OLlC7Y\"\u001b[39;49;00m,\n",
      "    \u001b[33m\"https://play-lh.googleusercontent.com/Ldi4m39pc1g8uHf3sErW8n_HINx4phPvlqHgOXnyVaH09Yfr6NDW96ltHRHT_9lA4A\"\u001b[39;49;00m\n",
      "  ],\n",
      "  \u001b[94m\"size\"\u001b[39;49;00m: \u001b[33m\"Varies with device\"\u001b[39;49;00m,\n",
      "  \u001b[94m\"summary\"\u001b[39;49;00m: \u001b[33m\"Buy new or secondhand items from brands you love - or sell items and make money.\"\u001b[39;49;00m,\n",
      "  \u001b[94m\"summaryHTML\"\u001b[39;49;00m: \u001b[33m\"Buy new or secondhand items from brands you love - or sell items and make money.\"\u001b[39;49;00m,\n",
      "  \u001b[94m\"title\"\u001b[39;49;00m: \u001b[33m\"eBay - Buy and sell on your favorite marketplace\"\u001b[39;49;00m,\n",
      "  \u001b[94m\"updated\"\u001b[39;49;00m: \u001b[34m1615311768\u001b[39;49;00m,\n",
      "  \u001b[94m\"url\"\u001b[39;49;00m: \u001b[33m\"https://play.google.com/store/apps/details?id=com.ebay.mobile&hl=en&gl=uk\"\u001b[39;49;00m,\n",
      "  \u001b[94m\"version\"\u001b[39;49;00m: \u001b[33m\"Varies with device\"\u001b[39;49;00m,\n",
      "  \u001b[94m\"video\"\u001b[39;49;00m: \u001b[34mnull\u001b[39;49;00m,\n",
      "  \u001b[94m\"videoImage\"\u001b[39;49;00m: \u001b[34mnull\u001b[39;49;00m\n",
      "}\n",
      "\n"
     ]
    }
   ],
   "source": [
    "print_json(app_infos[0])"
   ]
  },
  {
   "cell_type": "markdown",
   "metadata": {
    "colab_type": "text",
    "id": "dAOdYGkYODcZ"
   },
   "source": [
    "## Print Logos\n",
    "\n",
    "This contains lots of information including the number of ratings, number of reviews and number of ratings for each score (1 to 5). We can select what is relevant and even some of the info we like. For example, we can print all their logos. "
   ]
  },
  {
   "cell_type": "code",
   "execution_count": 30,
   "metadata": {
    "colab": {
     "base_uri": "https://localhost:8080/",
     "height": 291
    },
    "colab_type": "code",
    "id": "ni2zGSIIa6WT",
    "outputId": "d5888bc7-c67f-4254-ff9c-444ea9ff5376"
   },
   "outputs": [
    {
     "data": {
      "image/png": "[encoded data removed]",
      "text/plain": [
       "<Figure size 1008x360 with 3 Axes>"
      ]
     },
     "metadata": {
      "image/png": {
       "height": 302,
       "width": 96
      }
     },
     "output_type": "display_data"
    }
   ],
   "source": [
    "%matplotlib inline\n",
    "%config InlineBackend.figure_format='retina'\n",
    "\n",
    "sns.set(style='whitegrid', palette='muted', font_scale=1.2)\n",
    "\n",
    "# Function to format and get the title\n",
    "def format_title(title):\n",
    "    sep_index = title.find(':') if title.find(':') != -1 else title.find('-')\n",
    "    \n",
    "    if sep_index != -1:\n",
    "        title = title[:sep_index]\n",
    "    return title[:10]\n",
    "\n",
    "# Print logos and titles\n",
    "fig, axs = plt.subplots(3, len(app_infos) // 2, figsize=(14, 5))\n",
    "\n",
    "for i, ax in enumerate(axs.flat):\n",
    "    ai = app_infos[i]\n",
    "    img = plt.imread(ai['icon'])\n",
    "    ax.imshow(img)\n",
    "    ax.set_title(format_title(ai['title']))\n",
    "    ax.axis('off')"
   ]
  },
  {
   "cell_type": "markdown",
   "metadata": {
    "colab_type": "text",
    "id": "r-TwrzCHPJn0"
   },
   "source": [
    "We'll store the app information for later by converting the JSON objects into a Pandas dataframe and saving the result into a CSV file:"
   ]
  },
  {
   "cell_type": "code",
   "execution_count": 31,
   "metadata": {
    "colab": {},
    "colab_type": "code",
    "id": "JJeUc7xjBxuq"
   },
   "outputs": [],
   "source": [
    "# App Data into Pandas DF and store it\n",
    "app_infos_df = pd.DataFrame(app_infos)\n",
    "app_infos_df.to_csv('apps_all_3.csv', index=None, header=True)"
   ]
  },
  {
   "cell_type": "markdown",
   "metadata": {
    "colab_type": "text",
    "id": "mXqklWjwPLVv"
   },
   "source": [
    "## Scraping App Reviews\n",
    "\n",
    "In an ideal world, we would get all the reviews. But there are lots of them and we're scraping the data. That wouldn't be very polite. What should we do?\n",
    "\n",
    "We want:\n",
    "\n",
    "- Balanced dataset - roughly the same number of reviews for each score (1-5)\n",
    "- A representative sample of the reviews for each app\n",
    "\n",
    "We can satisfy the first requirement by using the scraping package option to filter the review score. For the second, we'll sort the reviews by their helpfulness, which are the reviews that Google Play thinks are most important. Just in case, we'll get a subset from the newest, too:\n",
    "\n",
    "See https://github.com/JoMingyu/google-play-scraper for configurations of function ``google_play_scraper.reviews``."
   ]
  },
  {
   "cell_type": "code",
   "execution_count": 19,
   "metadata": {},
   "outputs": [
    {
     "data": {
      "text/plain": [
       "[{'reviewId': 'gp:AOqpTOFjVp-OsK8ZUpMsPEeSAjCy2Z2scVryGD6u7IWnnrXv7xaiAulRVS4HBZZtRlRiQDIDpoHyt4s69DQE0J8',\n",
       "  'userName': 'Aes Velocity',\n",
       "  'userImage': 'https://play-lh.googleusercontent.com/a-/AOh14GgqZjF_Skc42wPY1OqWeeJZbn57EsfnIUaNBIw',\n",
       "  'content': \"This game helps calm me down when I'm stressed or upset with the music and how easy everything is. My only complaint is how many times you have to watch ads to get rewards it's just annoying. :/ The music in the ads are usually annoying and I normally have my volume all the way up since the music is calming. I'm also not a fan of how long it takes to craft things. Like bro it takes 2 hours just to craft one thing! I'd say mabye 10 minutes is the limit. Anyways a super good game, and I love it!\",\n",
       "  'score': 5,\n",
       "  'thumbsUpCount': 69,\n",
       "  'reviewCreatedVersion': '1.31.2',\n",
       "  'at': datetime.datetime(2021, 3, 3, 23, 46, 7),\n",
       "  'replyContent': None,\n",
       "  'repliedAt': None}]"
      ]
     },
     "execution_count": 19,
     "metadata": {},
     "output_type": "execute_result"
    }
   ],
   "source": [
    "# This is an example of the function google_play_scraper.reviews\n",
    "result, continuation_token = reviews(\n",
    "    'com.fantome.penguinisle',\n",
    "    lang='en', # defaults to 'en'\n",
    "    country='us', # defaults to 'us'\n",
    "    sort=Sort.MOST_RELEVANT, # defaults to Sort.MOST_RELEVANT\n",
    "    count=1, # defaults to 100\n",
    "    filter_score_with=5 # defaults to None(means all score)\n",
    ")\n",
    "result"
   ]
  },
  {
   "cell_type": "code",
   "execution_count": 44,
   "metadata": {
    "colab": {
     "base_uri": "https://localhost:8080/",
     "height": 34
    },
    "colab_type": "code",
    "id": "vRIID99ZCfjv",
    "outputId": "67e9d164-e8ca-4f9b-c273-9820923b0cf1"
   },
   "outputs": [
    {
     "name": "stderr",
     "output_type": "stream",
     "text": [
      "100%|██████████| 3/3 [00:29<00:00,  9.77s/it]\n"
     ]
    }
   ],
   "source": [
    "app_reviews = []\n",
    "\n",
    "# Loop through all the app packages and collect review for each of them\n",
    "for ap in tqdm(app_packages):\n",
    "    #for score in list(range(1, 6)):\n",
    "    for sort_order in [Sort.MOST_RELEVANT, Sort.NEWEST]:\n",
    "        rvs, _ = reviews(\n",
    "            ap,\n",
    "            lang='en',\n",
    "            country='uk',\n",
    "            sort=sort_order,\n",
    "            count= 2000,#150 if score == 3 else 200,\n",
    "            #filter_score_with=score\n",
    "        )\n",
    "    for r in rvs:\n",
    "        r['sortOrder'] = 'most_relevant' if sort_order == Sort.MOST_RELEVANT else 'newest'\n",
    "        r['appId'] = ap\n",
    "\n",
    "    app_reviews.extend(rvs)"
   ]
  },
  {
   "cell_type": "markdown",
   "metadata": {
    "colab_type": "text",
    "id": "gxQMuB20Wsnj"
   },
   "source": [
    "Note that we're adding the app id and sort order to each review. Here's an example for one:"
   ]
  },
  {
   "cell_type": "code",
   "execution_count": 45,
   "metadata": {
    "colab": {
     "base_uri": "https://localhost:8080/",
     "height": 275
    },
    "colab_type": "code",
    "id": "tF5exqgWCh1Q",
    "outputId": "b7fddf1f-3759-4548-b9fc-b2f43f027388"
   },
   "outputs": [
    {
     "name": "stdout",
     "output_type": "stream",
     "text": [
      "{\n",
      "  \u001b[94m\"appId\"\u001b[39;49;00m: \u001b[33m\"com.ebay.mobile\"\u001b[39;49;00m,\n",
      "  \u001b[94m\"at\"\u001b[39;49;00m: \u001b[33m\"2021-03-25 22:59:59\"\u001b[39;49;00m,\n",
      "  \u001b[94m\"content\"\u001b[39;49;00m: \u001b[33m\"Used to love selling on ebay. However now they have introduced the new payments system I think I'll stick to the other sites! Takes 2 days for payments to be processed, PayPal is instant!\"\u001b[39;49;00m,\n",
      "  \u001b[94m\"repliedAt\"\u001b[39;49;00m: \u001b[34mnull\u001b[39;49;00m,\n",
      "  \u001b[94m\"replyContent\"\u001b[39;49;00m: \u001b[34mnull\u001b[39;49;00m,\n",
      "  \u001b[94m\"reviewCreatedVersion\"\u001b[39;49;00m: \u001b[33m\"6.12.1.8\"\u001b[39;49;00m,\n",
      "  \u001b[94m\"reviewId\"\u001b[39;49;00m: \u001b[33m\"gp:AOqpTOH5kWkNuOR4_0zB-19Wpy9GHd__limtUqCiZb10JZWkQPj5Jj2hxw0Df9bNN21vbAVKZV8v50YbxW8mRg\"\u001b[39;49;00m,\n",
      "  \u001b[94m\"score\"\u001b[39;49;00m: \u001b[34m1\u001b[39;49;00m,\n",
      "  \u001b[94m\"sortOrder\"\u001b[39;49;00m: \u001b[33m\"newest\"\u001b[39;49;00m,\n",
      "  \u001b[94m\"thumbsUpCount\"\u001b[39;49;00m: \u001b[34m0\u001b[39;49;00m,\n",
      "  \u001b[94m\"userImage\"\u001b[39;49;00m: \u001b[33m\"https://play-lh.googleusercontent.com/a-/AOh14Ggf37S_t9hyOqNIfSUd0IFl1UcI7FLwmZSzAqP0mQ\"\u001b[39;49;00m,\n",
      "  \u001b[94m\"userName\"\u001b[39;49;00m: \u001b[33m\"Stacey Green\"\u001b[39;49;00m\n",
      "}\n",
      "\n"
     ]
    }
   ],
   "source": [
    "print_json(app_reviews[0])"
   ]
  },
  {
   "cell_type": "markdown",
   "metadata": {
    "colab_type": "text",
    "id": "R5hErADbOiMU"
   },
   "source": [
    "`repliedAt` and `replyContent` contain the developer response to the review.\n",
    "\n",
    "So, how many app reviews did we get?\n",
    "\n"
   ]
  },
  {
   "cell_type": "code",
   "execution_count": 46,
   "metadata": {
    "colab": {
     "base_uri": "https://localhost:8080/",
     "height": 34
    },
    "colab_type": "code",
    "id": "e2YjMDQDOdC5",
    "outputId": "e53a3759-d053-4bd5-8236-dcc6ff83802b"
   },
   "outputs": [
    {
     "name": "stdout",
     "output_type": "stream",
     "text": [
      "We were able to scrap:  6000  reviews\n"
     ]
    }
   ],
   "source": [
    "print(\"We were able to scrap: \", len(app_reviews), \" reviews\")"
   ]
  },
  {
   "cell_type": "markdown",
   "metadata": {
    "colab_type": "text",
    "id": "K7FZVC0nOcJ9"
   },
   "source": [
    "Let's save the reviews to a CSV file:"
   ]
  },
  {
   "cell_type": "code",
   "execution_count": 48,
   "metadata": {
    "colab": {},
    "colab_type": "code",
    "id": "1L7Nq2uwCjRI"
   },
   "outputs": [],
   "source": [
    "# Save app reviews in a CSV format\n",
    "app_reviews_df = pd.DataFrame(app_reviews)\n",
    "app_reviews_df.to_csv('reviews_all_3.csv', index=None, header=True)"
   ]
  },
  {
   "cell_type": "code",
   "execution_count": 49,
   "metadata": {},
   "outputs": [
    {
     "data": {
      "text/html": [
       "<div>\n",
       "<style scoped>\n",
       "    .dataframe tbody tr th:only-of-type {\n",
       "        vertical-align: middle;\n",
       "    }\n",
       "\n",
       "    .dataframe tbody tr th {\n",
       "        vertical-align: top;\n",
       "    }\n",
       "\n",
       "    .dataframe thead th {\n",
       "        text-align: right;\n",
       "    }\n",
       "</style>\n",
       "<table border=\"1\" class=\"dataframe\">\n",
       "  <thead>\n",
       "    <tr style=\"text-align: right;\">\n",
       "      <th></th>\n",
       "      <th>reviewId</th>\n",
       "      <th>userName</th>\n",
       "      <th>userImage</th>\n",
       "      <th>content</th>\n",
       "      <th>score</th>\n",
       "      <th>thumbsUpCount</th>\n",
       "      <th>reviewCreatedVersion</th>\n",
       "      <th>at</th>\n",
       "      <th>replyContent</th>\n",
       "      <th>repliedAt</th>\n",
       "      <th>sortOrder</th>\n",
       "      <th>appId</th>\n",
       "    </tr>\n",
       "  </thead>\n",
       "  <tbody>\n",
       "    <tr>\n",
       "      <th>0</th>\n",
       "      <td>gp:AOqpTOH5kWkNuOR4_0zB-19Wpy9GHd__limtUqCiZb1...</td>\n",
       "      <td>Stacey Green</td>\n",
       "      <td>https://play-lh.googleusercontent.com/a-/AOh14...</td>\n",
       "      <td>Used to love selling on ebay. However now they...</td>\n",
       "      <td>1</td>\n",
       "      <td>0</td>\n",
       "      <td>6.12.1.8</td>\n",
       "      <td>2021-03-25 22:59:59</td>\n",
       "      <td>None</td>\n",
       "      <td>NaT</td>\n",
       "      <td>newest</td>\n",
       "      <td>com.ebay.mobile</td>\n",
       "    </tr>\n",
       "    <tr>\n",
       "      <th>1</th>\n",
       "      <td>gp:AOqpTOEi2rNuHCiBFNtyGKjwjkNf85NIPLw9ljIdJB1...</td>\n",
       "      <td>Stuart Brennan</td>\n",
       "      <td>https://play-lh.googleusercontent.com/-1FHKgB2...</td>\n",
       "      <td>Good choice</td>\n",
       "      <td>4</td>\n",
       "      <td>0</td>\n",
       "      <td>6.12.1.8</td>\n",
       "      <td>2021-03-25 22:57:50</td>\n",
       "      <td>None</td>\n",
       "      <td>NaT</td>\n",
       "      <td>newest</td>\n",
       "      <td>com.ebay.mobile</td>\n",
       "    </tr>\n",
       "    <tr>\n",
       "      <th>2</th>\n",
       "      <td>gp:AOqpTOFFCl0fxvNYLtVB9CyYn_Il9b-jrSOHAlL5bJL...</td>\n",
       "      <td>Nana T</td>\n",
       "      <td>https://play-lh.googleusercontent.com/a-/AOh14...</td>\n",
       "      <td>Great deals everyday. Reliability</td>\n",
       "      <td>5</td>\n",
       "      <td>0</td>\n",
       "      <td>6.12.1.8</td>\n",
       "      <td>2021-03-25 22:55:11</td>\n",
       "      <td>None</td>\n",
       "      <td>NaT</td>\n",
       "      <td>newest</td>\n",
       "      <td>com.ebay.mobile</td>\n",
       "    </tr>\n",
       "    <tr>\n",
       "      <th>3</th>\n",
       "      <td>gp:AOqpTOFfEMWjRe7ZkKteE9NsB28ln8lhUl_j7JGov6I...</td>\n",
       "      <td>Vortexingu</td>\n",
       "      <td>https://play-lh.googleusercontent.com/a-/AOh14...</td>\n",
       "      <td>wow good</td>\n",
       "      <td>5</td>\n",
       "      <td>0</td>\n",
       "      <td>None</td>\n",
       "      <td>2021-03-25 22:49:40</td>\n",
       "      <td>None</td>\n",
       "      <td>NaT</td>\n",
       "      <td>newest</td>\n",
       "      <td>com.ebay.mobile</td>\n",
       "    </tr>\n",
       "    <tr>\n",
       "      <th>4</th>\n",
       "      <td>gp:AOqpTOFxN8p0rr7RRMuqJ2g11igXoyGh4T6-Lon5m8g...</td>\n",
       "      <td>A Google user</td>\n",
       "      <td>https://play-lh.googleusercontent.com/EGemoI2N...</td>\n",
       "      <td>it is so user friendly we love it</td>\n",
       "      <td>5</td>\n",
       "      <td>0</td>\n",
       "      <td>6.12.1.8</td>\n",
       "      <td>2021-03-25 22:49:05</td>\n",
       "      <td>None</td>\n",
       "      <td>NaT</td>\n",
       "      <td>newest</td>\n",
       "      <td>com.ebay.mobile</td>\n",
       "    </tr>\n",
       "  </tbody>\n",
       "</table>\n",
       "</div>"
      ],
      "text/plain": [
       "                                            reviewId        userName  \\\n",
       "0  gp:AOqpTOH5kWkNuOR4_0zB-19Wpy9GHd__limtUqCiZb1...    Stacey Green   \n",
       "1  gp:AOqpTOEi2rNuHCiBFNtyGKjwjkNf85NIPLw9ljIdJB1...  Stuart Brennan   \n",
       "2  gp:AOqpTOFFCl0fxvNYLtVB9CyYn_Il9b-jrSOHAlL5bJL...          Nana T   \n",
       "3  gp:AOqpTOFfEMWjRe7ZkKteE9NsB28ln8lhUl_j7JGov6I...      Vortexingu   \n",
       "4  gp:AOqpTOFxN8p0rr7RRMuqJ2g11igXoyGh4T6-Lon5m8g...   A Google user   \n",
       "\n",
       "                                           userImage  \\\n",
       "0  https://play-lh.googleusercontent.com/a-/AOh14...   \n",
       "1  https://play-lh.googleusercontent.com/-1FHKgB2...   \n",
       "2  https://play-lh.googleusercontent.com/a-/AOh14...   \n",
       "3  https://play-lh.googleusercontent.com/a-/AOh14...   \n",
       "4  https://play-lh.googleusercontent.com/EGemoI2N...   \n",
       "\n",
       "                                             content  score  thumbsUpCount  \\\n",
       "0  Used to love selling on ebay. However now they...      1              0   \n",
       "1                                        Good choice      4              0   \n",
       "2                  Great deals everyday. Reliability      5              0   \n",
       "3                                           wow good      5              0   \n",
       "4                  it is so user friendly we love it      5              0   \n",
       "\n",
       "  reviewCreatedVersion                  at replyContent repliedAt sortOrder  \\\n",
       "0             6.12.1.8 2021-03-25 22:59:59         None       NaT    newest   \n",
       "1             6.12.1.8 2021-03-25 22:57:50         None       NaT    newest   \n",
       "2             6.12.1.8 2021-03-25 22:55:11         None       NaT    newest   \n",
       "3                 None 2021-03-25 22:49:40         None       NaT    newest   \n",
       "4             6.12.1.8 2021-03-25 22:49:05         None       NaT    newest   \n",
       "\n",
       "             appId  \n",
       "0  com.ebay.mobile  \n",
       "1  com.ebay.mobile  \n",
       "2  com.ebay.mobile  \n",
       "3  com.ebay.mobile  \n",
       "4  com.ebay.mobile  "
      ]
     },
     "execution_count": 49,
     "metadata": {},
     "output_type": "execute_result"
    }
   ],
   "source": [
    "app_reviews_df.head()"
   ]
  },
  {
   "cell_type": "code",
   "execution_count": 5,
   "metadata": {},
   "outputs": [],
   "source": [
    "from win32com.shell import shell, shellcon\n",
    "import pandas as pd\n",
    "import openpyxl\n",
    "from openpyxl import load_workbook\n",
    "import numpy as np\n",
    "import time\n",
    "from tkinter import *\n",
    "from tkinter import ttk\n",
    "from pandastable import Table, TableModel\n",
    "\n",
    "class UserInterface(Frame):\n",
    "    # Launch the df in a pandastable frame\n",
    "    def __init__(self, parent=None):\n",
    "        global ui_df\n",
    "        global pt\n",
    "        ui_df = pos_df\n",
    "        self.parent = parent\n",
    "        Frame.__init__(self)\n",
    "        self.main = self.master\n",
    "        #self.main.geometry('800x600+0+0')\n",
    "        f = Frame(self.main)\n",
    "        f.grid(column=0, row=1, sticky=(E, W))\n",
    "        screen_width = f.winfo_screenwidth() * 0.8\n",
    "        screen_height = f.winfo_screenheight() * 0.7\n",
    "        self.table = pt = Table(f, dataframe=ui_df, height = screen_height, width = screen_width)\n",
    "        pt.show()\n",
    "        return\n",
    "\n",
    "    def change_df(self, col_val_input):\n",
    "        #Responds to button\n",
    "        ui_df['Test col'] = col_val_input\n",
    "        pt.show()\n",
    "\n",
    "    def change_df_combo(self, event):\n",
    "        #Responds to combobox, supposed to filter by 'Sec_type'\n",
    "        combo_selection = str(combo_box.get())\n",
    "        ui_df = pos_df[pos_df['Sec_type'] == combo_selection]\n",
    "        pt.show()\n",
    "\n",
    "#Create dataframe\n",
    "pos_data = {'Location' : ['Denver', 'Boulder', 'Phoenix', 'Reno', 'Portland',\n",
    "'Eugene', 'San Francisco'], 'Sec_type' : ['mbus', 'mbus', 'vmus', 'caus',\n",
    "'vmus', 'mbus', 'mbus']}\n",
    "pos_df = pd.DataFrame(data = pos_data)\n",
    "\n",
    "#Launch Tkinter basics\n",
    "root = Tk()\n",
    "root.title(\"S test...\")\n",
    "\n",
    "mainframe = ttk.Frame(root, padding=\"3 3 12 12\")\n",
    "mainframe.grid(column=0, row=0, sticky=(N, W, E, S))\n",
    "mainframe.columnconfigure(0, weight=1)\n",
    "mainframe.rowconfigure(0, weight=1)\n",
    "root.columnconfigure(0, weight=1)\n",
    "root.rowconfigure(0, weight=1)\n",
    "\n",
    "ui_display = UserInterface(mainframe)\n",
    "\n",
    "#'Test' button, this works fine\n",
    "col_val_input = 'It worked!'\n",
    "test_button = ttk.Button(mainframe, text = 'Test', command= lambda: ui_display.change_df(col_val_input))\n",
    "test_button.grid(column=0, row=0, sticky=(W))\n",
    "\n",
    "#Combobox, works to just show choice, but not to filter\n",
    "combo_choices = ['mbus', 'vmus', 'caus']\n",
    "choice = StringVar()\n",
    "combo_box = ttk.Combobox(mainframe, textvariable=choice)\n",
    "combo_box['values'] = combo_choices\n",
    "combo_box.grid(column=1, row=0, sticky=(W))\n",
    "combo_box.bind('<<ComboboxSelected>>', ui_display.change_df_combo)\n",
    "\n",
    "root.mainloop()"
   ]
  },
  {
   "cell_type": "code",
   "execution_count": null,
   "metadata": {},
   "outputs": [],
   "source": []
  }
 ],
 "metadata": {
  "colab": {
   "collapsed_sections": [],
   "name": "07-01.create-dataset-for-sentiment-analysis.ipynb",
   "provenance": []
  },
  "kernelspec": {
   "display_name": "Python 3",
   "language": "python",
   "name": "python3"
  },
  "language_info": {
   "codemirror_mode": {
    "name": "ipython",
    "version": 3
   },
   "file_extension": ".py",
   "mimetype": "text/x-python",
   "name": "python",
   "nbconvert_exporter": "python",
   "pygments_lexer": "ipython3",
   "version": "3.8.5"
  }
 },
 "nbformat": 4,
 "nbformat_minor": 1
}
